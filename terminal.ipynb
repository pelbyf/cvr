{
 "cells": [
  {
   "cell_type": "code",
   "execution_count": 5,
   "id": "8d4038ab",
   "metadata": {},
   "outputs": [
    {
     "name": "stdout",
     "output_type": "stream",
     "text": [
      "Switched to a new branch 'update_readme'\r\n"
     ]
    }
   ],
   "source": [
    "!git checkout -b update_readme"
   ]
  },
  {
   "cell_type": "code",
   "execution_count": 6,
   "id": "9bed936b",
   "metadata": {},
   "outputs": [
    {
     "name": "stdout",
     "output_type": "stream",
     "text": [
      "On branch update_readme\r\n",
      "nothing to commit, working tree clean\r\n"
     ]
    }
   ],
   "source": [
    "!git status"
   ]
  },
  {
   "cell_type": "code",
   "execution_count": 7,
   "id": "121e6c89",
   "metadata": {},
   "outputs": [],
   "source": [
    "!echo \"add string\" >> README.md"
   ]
  },
  {
   "cell_type": "code",
   "execution_count": 8,
   "id": "d4a2883b",
   "metadata": {},
   "outputs": [
    {
     "name": "stdout",
     "output_type": "stream",
     "text": [
      "# Computer Vision in Robotics\r\n",
      "\r\n",
      "<img src=\"./.img/logo_for_form.png\" height=\"350\" />\r\n",
      "\r\n",
      "\r\n",
      "Visit our site <https://www.starkitrobots.com/cvr> to check content.\r\n",
      "Course is online and will be carried out on our *[YouTube chanel](https://www.youtube.com/channel/UC0QPJgfg17wCqf4-hG_A5OA)*.\r\n",
      "add string\r\n"
     ]
    }
   ],
   "source": [
    "cat README.md"
   ]
  },
  {
   "cell_type": "code",
   "execution_count": 9,
   "id": "38dd8c20",
   "metadata": {},
   "outputs": [
    {
     "name": "stdout",
     "output_type": "stream",
     "text": [
      "[update_readme 1caea92] CHANGE readme\r\n",
      " 1 file changed, 1 insertion(+)\r\n"
     ]
    }
   ],
   "source": [
    "!git add .\n",
    "!git commit -m \"CHANGE readme\""
   ]
  },
  {
   "cell_type": "code",
   "execution_count": 10,
   "id": "fc08cdf0",
   "metadata": {},
   "outputs": [
    {
     "name": "stdout",
     "output_type": "stream",
     "text": [
      "Enumerating objects: 5, done.\n",
      "Counting objects: 100% (5/5), done.\n",
      "Delta compression using up to 4 threads\n",
      "Compressing objects: 100% (3/3), done.\n",
      "Writing objects: 100% (3/3), 301 bytes | 301.00 KiB/s, done.\n",
      "Total 3 (delta 2), reused 0 (delta 0)\n",
      "remote: Resolving deltas: 100% (2/2), completed with 2 local objects.\u001b[K\n",
      "remote: \n",
      "remote: Create a pull request for 'update_readme' on GitHub by visiting:\u001b[K\n",
      "remote:      https://github.com/pelbyf/cvr/pull/new/update_readme\u001b[K\n",
      "remote: \n",
      "To https://github.com/pelbyf/cvr.git\n",
      " * [new branch]      update_readme -> update_readme\n"
     ]
    }
   ],
   "source": [
    "!git push origin update_readme"
   ]
  },
  {
   "cell_type": "code",
   "execution_count": 11,
   "id": "4b5cb23e",
   "metadata": {},
   "outputs": [
    {
     "name": "stdout",
     "output_type": "stream",
     "text": [
      "Switched to a new branch 'develop'\r\n"
     ]
    }
   ],
   "source": [
    "!git checkout -b develop"
   ]
  },
  {
   "cell_type": "code",
   "execution_count": 12,
   "id": "6c57d642",
   "metadata": {},
   "outputs": [
    {
     "name": "stdout",
     "output_type": "stream",
     "text": [
      "Already up to date.\r\n"
     ]
    }
   ],
   "source": [
    "!git merge update_readme"
   ]
  },
  {
   "cell_type": "code",
   "execution_count": null,
   "id": "316b70d8",
   "metadata": {},
   "outputs": [],
   "source": []
  }
 ],
 "metadata": {
  "kernelspec": {
   "display_name": "Python 3",
   "language": "python",
   "name": "python3"
  },
  "language_info": {
   "codemirror_mode": {
    "name": "ipython",
    "version": 3
   },
   "file_extension": ".py",
   "mimetype": "text/x-python",
   "name": "python",
   "nbconvert_exporter": "python",
   "pygments_lexer": "ipython3",
   "version": "3.8.8"
  }
 },
 "nbformat": 4,
 "nbformat_minor": 5
}
